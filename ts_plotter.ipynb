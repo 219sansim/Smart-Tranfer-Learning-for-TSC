{
 "cells": [
  {
   "cell_type": "code",
   "execution_count": 4,
   "metadata": {},
   "outputs": [],
   "source": [
    "from pandas import read_csv\n",
    "from matplotlib import pyplot"
   ]
  },
  {
   "cell_type": "code",
   "execution_count": 8,
   "metadata": {},
   "outputs": [
    {
     "name": "stdout",
     "output_type": "stream",
     "text": [
      "        1         2        3        4        5         6        7        8   \\\n",
      "0                                                                             \n",
      "1 -0.37694  1.224900  0.34387  0.32845 -0.33761  1.026500 -1.33100 -0.65780   \n",
      "1  0.64441  0.413270 -0.86228 -1.49740 -0.42146 -0.214210 -1.29210  0.95690   \n",
      "1 -0.97867 -0.406230  0.82243 -1.40820 -1.67670 -0.490630  1.40460  1.16860   \n",
      "1 -0.23654 -0.098175  0.36709  1.36690  0.49828 -0.300220  1.71560  0.90211   \n",
      "1  1.49070  1.325200  1.62680 -0.31706 -1.09900 -0.022213  0.59698  1.66730   \n",
      "\n",
      "        9        10  ...        51       52       53       54      55  \\\n",
      "0                    ...                                                \n",
      "1  1.44610 -0.84640  ...  0.370710 -1.56820  1.02190 -1.42970  1.3570   \n",
      "1 -1.21610 -0.58854  ...  1.317300 -0.80253 -1.12130  0.98932 -1.1097   \n",
      "1 -1.70330  0.97281  ... -0.828780 -0.76288  1.38300 -0.86910  1.2773   \n",
      "1 -0.21813 -1.43070  ...  0.068904 -1.49960  0.40674  1.28920 -1.1197   \n",
      "1 -0.20615 -1.37660  ...  0.815070  1.03000 -1.49620 -1.16740  1.4842   \n",
      "\n",
      "        56       57       58        59        60  \n",
      "0                                                 \n",
      "1  1.37280  0.66356  0.91835 -1.311700 -1.197100  \n",
      "1  0.21986  0.63003  1.39810  0.085742  0.024997  \n",
      "1 -0.19897  0.96681  0.66613  0.107000  0.082715  \n",
      "1 -0.99598  1.65110 -1.18710  0.025463 -0.841520  \n",
      "1 -0.37302 -0.84328 -0.20979  0.137720  0.716540  \n",
      "\n",
      "[5 rows x 60 columns]\n"
     ]
    }
   ],
   "source": [
    "df = read_csv('UCR_TS_Archive_2015/synthetic_control/synthetic_control_TRAIN', header=None, index_col=0)\n",
    "print(df.head())"
   ]
  },
  {
   "cell_type": "code",
   "execution_count": null,
   "metadata": {},
   "outputs": [],
   "source": []
  }
 ],
 "metadata": {
  "kernelspec": {
   "display_name": "pytorch",
   "language": "python",
   "name": "python3"
  },
  "language_info": {
   "codemirror_mode": {
    "name": "ipython",
    "version": 3
   },
   "file_extension": ".py",
   "mimetype": "text/x-python",
   "name": "python",
   "nbconvert_exporter": "python",
   "pygments_lexer": "ipython3",
   "version": "3.10.8"
  },
  "orig_nbformat": 4,
  "vscode": {
   "interpreter": {
    "hash": "736147612112090e19aebe6736b57293588dd4c2950997ac48cc8e27568fc8f1"
   }
  }
 },
 "nbformat": 4,
 "nbformat_minor": 2
}
